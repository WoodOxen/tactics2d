{
 "cells": [
  {
   "cell_type": "markdown",
   "metadata": {},
   "source": [
    "# Running an Pure Pursuit Agent in the Racing Scenario\n",
    "\n",
    "This notebook introduces how to train an agent within the developed traffic scenario [envs/racing.py](https://github.com/WoodOxen/tactics2d/blob/master/tactics2d/envs/racing.py). This environment can generate a racing track with a centerline."
   ]
  },
  {
   "cell_type": "markdown",
   "metadata": {},
   "source": [
    "## Install dependencies\n",
    "\n",
    "**This notebook is using pygame to render the environment. You may need to download the notebook and run it locally.**\n",
    "\n",
    "1. Download this notebook.\n",
    "\n",
    "2. Run the commands in the next cell to install the dependencies."
   ]
  },
  {
   "cell_type": "code",
   "execution_count": 1,
   "metadata": {},
   "outputs": [],
   "source": [
    "# %pip install tactics2d"
   ]
  },
  {
   "cell_type": "code",
   "execution_count": 1,
   "metadata": {},
   "outputs": [
    {
     "ename": "ImportError",
     "evalue": "cannot import name 'PIDControllera' from 'tactics2d.controller.pid_controller' (/home/rowena/miniconda3/envs/tactics2d/lib/python3.8/site-packages/tactics2d/controller/pid_controller.py)",
     "output_type": "error",
     "traceback": [
      "\u001b[0;31m---------------------------------------------------------------------------\u001b[0m",
      "\u001b[0;31mImportError\u001b[0m                               Traceback (most recent call last)",
      "Cell \u001b[0;32mIn[1], line 11\u001b[0m\n\u001b[1;32m      8\u001b[0m \u001b[38;5;28;01mfrom\u001b[39;00m \u001b[38;5;21;01mshapely\u001b[39;00m\u001b[38;5;21;01m.\u001b[39;00m\u001b[38;5;21;01mgeometry\u001b[39;00m \u001b[38;5;28;01mimport\u001b[39;00m LinearRing, LineString, Point\n\u001b[1;32m     10\u001b[0m \u001b[38;5;28;01mfrom\u001b[39;00m \u001b[38;5;21;01mtactics2d\u001b[39;00m\u001b[38;5;21;01m.\u001b[39;00m\u001b[38;5;21;01menvs\u001b[39;00m \u001b[38;5;28;01mimport\u001b[39;00m RacingEnv\n\u001b[0;32m---> 11\u001b[0m \u001b[38;5;28;01mfrom\u001b[39;00m \u001b[38;5;21;01mtactics2d\u001b[39;00m\u001b[38;5;21;01m.\u001b[39;00m\u001b[38;5;21;01mcontroller\u001b[39;00m \u001b[38;5;28;01mimport\u001b[39;00m PurePursuitController\n",
      "File \u001b[0;32m~/miniconda3/envs/tactics2d/lib/python3.8/site-packages/tactics2d/controller/__init__.py:9\u001b[0m\n\u001b[1;32m      1\u001b[0m \u001b[38;5;66;03m##! python3\u001b[39;00m\n\u001b[1;32m      2\u001b[0m \u001b[38;5;66;03m# Copyright (C) 2025, Tactics2D Authors. Released under the GNU GPLv3.\u001b[39;00m\n\u001b[1;32m      3\u001b[0m \u001b[38;5;66;03m# @File: __init__.py\u001b[39;00m\n\u001b[1;32m      4\u001b[0m \u001b[38;5;66;03m# @Description:\u001b[39;00m\n\u001b[1;32m      5\u001b[0m \u001b[38;5;66;03m# @Author: Tactics2D Team\u001b[39;00m\n\u001b[1;32m      6\u001b[0m \u001b[38;5;66;03m# @Version:\u001b[39;00m\n\u001b[1;32m      8\u001b[0m \u001b[38;5;28;01mfrom\u001b[39;00m \u001b[38;5;21;01m.\u001b[39;00m\u001b[38;5;21;01mpure_pursuit_controller\u001b[39;00m \u001b[38;5;28;01mimport\u001b[39;00m PurePursuitController\n\u001b[0;32m----> 9\u001b[0m \u001b[38;5;28;01mfrom\u001b[39;00m \u001b[38;5;21;01m.\u001b[39;00m\u001b[38;5;21;01mpid_controller\u001b[39;00m \u001b[38;5;28;01mimport\u001b[39;00m PIDControllera\n",
      "\u001b[0;31mImportError\u001b[0m: cannot import name 'PIDControllera' from 'tactics2d.controller.pid_controller' (/home/rowena/miniconda3/envs/tactics2d/lib/python3.8/site-packages/tactics2d/controller/pid_controller.py)"
     ]
    }
   ],
   "source": [
    "import sys\n",
    "sys.path.append(\"../..\")\n",
    "sys.path.append(\"../../tactics2d\")\n",
    "\n",
    "import matplotlib.pyplot as plt\n",
    "import gymnasium as gym\n",
    "import numpy as np\n",
    "from shapely.geometry import LinearRing, LineString, Point\n",
    "\n",
    "from tactics2d.envs import RacingEnv\n",
    "from tactics2d.controller import PurePursuitController"
   ]
  },
  {
   "cell_type": "code",
   "execution_count": null,
   "metadata": {},
   "outputs": [
    {
     "ename": "NameError",
     "evalue": "name 'RacingEnv' is not defined",
     "output_type": "error",
     "traceback": [
      "\u001b[0;31m---------------------------------------------------------------------------\u001b[0m",
      "\u001b[0;31mNameError\u001b[0m                                 Traceback (most recent call last)",
      "Cell \u001b[0;32mIn[1], line 1\u001b[0m\n\u001b[0;32m----> 1\u001b[0m env_ \u001b[38;5;241m=\u001b[39m \u001b[43mRacingEnv\u001b[49m()\n",
      "\u001b[0;31mNameError\u001b[0m: name 'RacingEnv' is not defined"
     ]
    }
   ],
   "source": [
    "render_mode = [\"rgb_array\", \"human\"][1]\n",
    "env = RacingEnv(\n",
    "    render_mode=render_mode,\n",
    "    \n",
    ")"
   ]
  },
  {
   "cell_type": "code",
   "execution_count": null,
   "metadata": {},
   "outputs": [],
   "source": []
  }
 ],
 "metadata": {
  "kernelspec": {
   "display_name": "tactics2d",
   "language": "python",
   "name": "python3"
  },
  "language_info": {
   "codemirror_mode": {
    "name": "ipython",
    "version": 3
   },
   "file_extension": ".py",
   "mimetype": "text/x-python",
   "name": "python",
   "nbconvert_exporter": "python",
   "pygments_lexer": "ipython3",
   "version": "3.8.18"
  }
 },
 "nbformat": 4,
 "nbformat_minor": 2
}
